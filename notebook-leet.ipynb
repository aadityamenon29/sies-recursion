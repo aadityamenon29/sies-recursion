{
 "cells": [
  {
   "cell_type": "code",
   "execution_count": 169,
   "metadata": {},
   "outputs": [],
   "source": [
    "class Key:\n",
    "    def __init__(self, name = \"key\"):\n",
    "        self.name = name\n",
    "    def __str__(self) -> str:\n",
    "        return f\"{self.name}\""
   ]
  },
  {
   "cell_type": "code",
   "execution_count": 170,
   "metadata": {},
   "outputs": [],
   "source": [
    "class Box:\n",
    "    def __init__(self, contents = [], key = \"\"):\n",
    "        self.contents = contents\n",
    "        self.key = key\n",
    "    \n",
    "    def has_key(self):\n",
    "        return self.key != \"\"\n",
    "    def add_boxes(self, boxes):\n",
    "        self.contents.extend(boxes)\n",
    "\n",
    "    def __str__(self) -> str:\n",
    "        res = \"[  \"\n",
    "        for box in self.contents:\n",
    "            res += box.__str__()\n",
    "        return res + f\"  {self.key}],\"\n"
   ]
  },
  {
   "cell_type": "code",
   "execution_count": 171,
   "metadata": {},
   "outputs": [
    {
     "name": "stdout",
     "output_type": "stream",
     "text": [
      "Key with name magic_key found at path 1.2.2\n"
     ]
    }
   ],
   "source": [
    "key = Key(\"magic_key\")\n",
    "box = Box(\n",
    "    [\n",
    "        Box(\n",
    "            [\n",
    "                Box()\n",
    "            ],\n",
    "        ),\n",
    "        Box(\n",
    "            [\n",
    "                Box(),\n",
    "                Box([],\"magic_key\")\n",
    "            ],\n",
    "        )\n",
    "    ],\n",
    ")\n",
    "\n",
    "# print(box.__str__())\n",
    "\n",
    "def find_key(box, path):\n",
    "    if box.has_key():\n",
    "        print(f\"Key with name {box.key} found at path {path}\")\n",
    "        return\n",
    "    for i, box in enumerate(box.contents):\n",
    "        find_key(box, path+f\".{i+1}\")\n",
    "\n",
    "find_key(box, \"1\")\n"
   ]
  },
  {
   "cell_type": "code",
   "execution_count": 189,
   "metadata": {},
   "outputs": [
    {
     "data": {
      "text/plain": [
       "0"
      ]
     },
     "execution_count": 189,
     "metadata": {},
     "output_type": "execute_result"
    }
   ],
   "source": [
    "nums = [10,2,3,4,6]\n",
    "# nums = []\n",
    "\n",
    "def _sum(arr, s, e):\n",
    "    # base classes ---> invariant 1\n",
    "    if s > e:\n",
    "        return 0\n",
    "    if s == e:\n",
    "        return nums[s]\n",
    "    \n",
    "    ans = nums[s] + _sum(nums,s+1,e)   # ---> invariant 2\n",
    "    return ans\n",
    "\n",
    "_sum(nums,0,len(nums)-1)\n",
    "\n",
    "# Try fibonacci, factorial etc. using recursion"
   ]
  }
 ],
 "metadata": {
  "kernelspec": {
   "display_name": "Python 3",
   "language": "python",
   "name": "python3"
  },
  "language_info": {
   "codemirror_mode": {
    "name": "ipython",
    "version": 3
   },
   "file_extension": ".py",
   "mimetype": "text/x-python",
   "name": "python",
   "nbconvert_exporter": "python",
   "pygments_lexer": "ipython3",
   "version": "3.11.5"
  }
 },
 "nbformat": 4,
 "nbformat_minor": 2
}
