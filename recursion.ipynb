{
 "cells": [
  {
   "cell_type": "code",
   "execution_count": null,
   "metadata": {},
   "outputs": [],
   "source": [
    "# def find_key(box: Box, path: str):\n",
    "#     if box.has_key():\n",
    "#         print(f'Key found : {box.key} at path {path}')\n",
    "#         return\n",
    "#     for i, child_box in enumerate(box.contents):\n",
    "#         find_key(child_box, path+ f\".{i+1}\")\n",
    "\n",
    "# find_key(master_box, \"1\")"
   ]
  },
  {
   "cell_type": "code",
   "execution_count": 10,
   "metadata": {},
   "outputs": [
    {
     "name": "stdout",
     "output_type": "stream",
     "text": [
      "Key found : magic_key at path 1\n"
     ]
    }
   ],
   "source": [
    "class Box:\n",
    "    def __init__(self, contents = [], key = \"\"):\n",
    "        self.contents = contents\n",
    "        self.key = key\n",
    "    \n",
    "    def has_key(self):\n",
    "        return self.key != \"\"\n",
    "\n"
   ]
  },
  {
   "cell_type": "code",
   "execution_count": 43,
   "metadata": {},
   "outputs": [
    {
     "name": "stdout",
     "output_type": "stream",
     "text": [
      "False True False\n"
     ]
    }
   ],
   "source": [
    "box1 = Box()                    # empty box, no key\n",
    "box2 = Box([], \"magic_key\")     # empty box, key exists\n",
    "box3 = Box([box1, box2], \"\")    # non-empty box, no key\n",
    "\n",
    "master_box = Box(\n",
    "    [\n",
    "        Box(\n",
    "            [\n",
    "                Box()\n",
    "            ],\n",
    "        ),\n",
    "        Box(\n",
    "            [\n",
    "                Box(),\n",
    "                Box([], \"magic_key\")\n",
    "            ],\n",
    "        )\n",
    "    ],\n",
    ")\n",
    "\n",
    "print(box3.has_key(), box2.has_key(), box1.has_key())\n"
   ]
  },
  {
   "cell_type": "code",
   "execution_count": 44,
   "metadata": {},
   "outputs": [
    {
     "name": "stdout",
     "output_type": "stream",
     "text": [
      "Key found magic_key at path 1.2.2\n"
     ]
    }
   ],
   "source": [
    "\n",
    "def find_key(box: Box, path: str):\n",
    "    if box.has_key():\n",
    "        print(f\"Key found {box.key} at path {path}\")\n",
    "        return\n",
    "    for i,sub_box in enumerate(box.contents):\n",
    "        find_key(sub_box, path + f\".{i+1}\")\n",
    "\n",
    "find_key(master_box, \"1\")"
   ]
  }
 ],
 "metadata": {
  "kernelspec": {
   "display_name": "Python 3",
   "language": "python",
   "name": "python3"
  },
  "language_info": {
   "codemirror_mode": {
    "name": "ipython",
    "version": 3
   },
   "file_extension": ".py",
   "mimetype": "text/x-python",
   "name": "python",
   "nbconvert_exporter": "python",
   "pygments_lexer": "ipython3",
   "version": "3.11.5"
  }
 },
 "nbformat": 4,
 "nbformat_minor": 2
}
